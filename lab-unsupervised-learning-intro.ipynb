{
 "cells": [
  {
   "cell_type": "code",
   "execution_count": 3,
   "metadata": {},
   "outputs": [],
   "source": [
    "from spotify_client import *\n",
    "import pandas as pd\n",
    "import spotipy\n",
    "import json\n",
    "from spotipy.oauth2 import SpotifyClientCredentials"
   ]
  },
  {
   "cell_type": "code",
   "execution_count": 4,
   "metadata": {},
   "outputs": [],
   "source": [
    "sp = spotipy.Spotify(auth_manager=SpotifyClientCredentials(client_id= client_id,\n",
    "                                                           client_secret= client_secret))"
   ]
  },
  {
   "cell_type": "code",
   "execution_count": 5,
   "metadata": {},
   "outputs": [],
   "source": [
    "def get_playlist_tracks(username, playlist_id):\n",
    "    results = sp.user_playlist_tracks(username,playlist_id)\n",
    "    tracks = results['items']\n",
    "    while results['next']:\n",
    "        results = sp.next(results)\n",
    "        tracks.extend(results['items'])\n",
    "    return tracks"
   ]
  },
  {
   "cell_type": "code",
   "execution_count": 6,
   "metadata": {},
   "outputs": [],
   "source": [
    "tracks = get_playlist_tracks(\"spotify\", \"7htu5ftbLBRFAwiuHVcUAg\")"
   ]
  },
  {
   "cell_type": "code",
   "execution_count": 136,
   "metadata": {},
   "outputs": [
    {
     "data": {
      "text/plain": [
       "9988"
      ]
     },
     "execution_count": 136,
     "metadata": {},
     "output_type": "execute_result"
    }
   ],
   "source": [
    "len(tracks)"
   ]
  },
  {
   "cell_type": "code",
   "execution_count": 127,
   "metadata": {},
   "outputs": [
    {
     "data": {
      "text/plain": [
       "36"
      ]
     },
     "execution_count": 127,
     "metadata": {},
     "output_type": "execute_result"
    }
   ],
   "source": [
    "len(tracks[0]['track']['uri'])"
   ]
  },
  {
   "cell_type": "code",
   "execution_count": 137,
   "metadata": {},
   "outputs": [],
   "source": [
    "def features(tracks):\n",
    "    \n",
    "    song_features = {}\n",
    "    \n",
    "    for i in range(len(tracks)):\n",
    "        song_features[tracks[i]['track']['id']] = sp.audio_features(tracks[i][\"track\"][\"uri\"])\n",
    "    \n",
    "    return song_features"
   ]
  },
  {
   "cell_type": "code",
   "execution_count": 9,
   "metadata": {},
   "outputs": [
    {
     "data": {
      "text/plain": [
       "[{'danceability': 0.511,\n",
       "  'energy': 0.472,\n",
       "  'key': 4,\n",
       "  'loudness': -9.277,\n",
       "  'mode': 1,\n",
       "  'speechiness': 0.091,\n",
       "  'acousticness': 0.534,\n",
       "  'instrumentalness': 0.614,\n",
       "  'liveness': 0.11,\n",
       "  'valence': 0.0399,\n",
       "  'tempo': 127.978,\n",
       "  'type': 'audio_features',\n",
       "  'id': '2MvvoeRt8NcOXWESkxWn3g',\n",
       "  'uri': 'spotify:track:2MvvoeRt8NcOXWESkxWn3g',\n",
       "  'track_href': 'https://api.spotify.com/v1/tracks/2MvvoeRt8NcOXWESkxWn3g',\n",
       "  'analysis_url': 'https://api.spotify.com/v1/audio-analysis/2MvvoeRt8NcOXWESkxWn3g',\n",
       "  'duration_ms': 258969,\n",
       "  'time_signature': 4}]"
      ]
     },
     "execution_count": 9,
     "metadata": {},
     "output_type": "execute_result"
    }
   ],
   "source": [
    "sp.audio_features(tracks[0][\"track\"][\"uri\"])"
   ]
  },
  {
   "cell_type": "code",
   "execution_count": 138,
   "metadata": {},
   "outputs": [],
   "source": [
    "x = features(tracks)"
   ]
  },
  {
   "cell_type": "code",
   "execution_count": 139,
   "metadata": {},
   "outputs": [],
   "source": [
    "songs = list(x.keys())"
   ]
  },
  {
   "cell_type": "code",
   "execution_count": 141,
   "metadata": {},
   "outputs": [],
   "source": [
    "feature_names = list(x[songs[0]][0].keys())"
   ]
  },
  {
   "cell_type": "code",
   "execution_count": 142,
   "metadata": {},
   "outputs": [
    {
     "data": {
      "text/plain": [
       "['danceability',\n",
       " 'energy',\n",
       " 'key',\n",
       " 'loudness',\n",
       " 'mode',\n",
       " 'speechiness',\n",
       " 'acousticness',\n",
       " 'instrumentalness',\n",
       " 'liveness',\n",
       " 'valence',\n",
       " 'tempo',\n",
       " 'type',\n",
       " 'id',\n",
       " 'uri',\n",
       " 'track_href',\n",
       " 'analysis_url',\n",
       " 'duration_ms',\n",
       " 'time_signature']"
      ]
     },
     "execution_count": 142,
     "metadata": {},
     "output_type": "execute_result"
    }
   ],
   "source": [
    "feature_names"
   ]
  },
  {
   "cell_type": "code",
   "execution_count": 143,
   "metadata": {},
   "outputs": [],
   "source": [
    "danceability = []\n",
    "energy=[]\n",
    "key=[]\n",
    "loudness=[]\n",
    "mode=[]\n",
    "speechiness=[]\n",
    "acousticness=[]\n",
    "instrumentalness=[]\n",
    "liveness=[]\n",
    "valence=[]\n",
    "tempo=[]\n",
    "type=[]\n",
    "id=[]\n",
    "uri=[]\n",
    "track_href=[]\n",
    "analysis_url=[]\n",
    "duration_ms=[]\n",
    "time_signature=[]"
   ]
  },
  {
   "cell_type": "code",
   "execution_count": 144,
   "metadata": {},
   "outputs": [
    {
     "data": {
      "text/plain": [
       "{'danceability': 0.511,\n",
       " 'energy': 0.472,\n",
       " 'key': 4,\n",
       " 'loudness': -9.277,\n",
       " 'mode': 1,\n",
       " 'speechiness': 0.091,\n",
       " 'acousticness': 0.534,\n",
       " 'instrumentalness': 0.614,\n",
       " 'liveness': 0.11,\n",
       " 'valence': 0.0399,\n",
       " 'tempo': 127.978,\n",
       " 'type': 'audio_features',\n",
       " 'id': '2MvvoeRt8NcOXWESkxWn3g',\n",
       " 'uri': 'spotify:track:2MvvoeRt8NcOXWESkxWn3g',\n",
       " 'track_href': 'https://api.spotify.com/v1/tracks/2MvvoeRt8NcOXWESkxWn3g',\n",
       " 'analysis_url': 'https://api.spotify.com/v1/audio-analysis/2MvvoeRt8NcOXWESkxWn3g',\n",
       " 'duration_ms': 258969,\n",
       " 'time_signature': 4}"
      ]
     },
     "execution_count": 144,
     "metadata": {},
     "output_type": "execute_result"
    }
   ],
   "source": [
    "x[songs[0]][0]"
   ]
  },
  {
   "cell_type": "code",
   "execution_count": 145,
   "metadata": {},
   "outputs": [],
   "source": [
    "for song in range(len(x)):\n",
    "\n",
    "    #x[songs[song]][0][feature_names[1]]\n",
    "    danceability.append(x[songs[song]][0][feature_names[0]])\n",
    "    energy.append(x[songs[song]][0][feature_names[1]])\n",
    "    key.append(x[songs[song]][0][feature_names[2]])\n",
    "    loudness.append(x[songs[song]][0][feature_names[3]])\n",
    "    mode.append(x[songs[song]][0][feature_names[4]])\n",
    "    speechiness.append(x[songs[song]][0][feature_names[5]])\n",
    "    acousticness.append(x[songs[song]][0][feature_names[6]])\n",
    "    instrumentalness.append(x[songs[song]][0][feature_names[7]])\n",
    "    liveness.append(x[songs[song]][0][feature_names[8]])\n",
    "    valence.append(x[songs[song]][0][feature_names[9]])\n",
    "    tempo.append(x[songs[song]][0][feature_names[10]])\n",
    "    type.append(x[songs[song]][0][feature_names[11]])\n",
    "    id.append(x[songs[song]][0][feature_names[12]])\n",
    "    uri.append(x[songs[song]][0][feature_names[13]])\n",
    "    track_href.append(x[songs[song]][0][feature_names[14]])\n",
    "    analysis_url.append(x[songs[song]][0][feature_names[15]])\n",
    "    duration_ms.append(x[songs[song]][0][feature_names[16]])\n",
    "    time_signature.append(x[songs[song]][0][feature_names[17]])\n"
   ]
  },
  {
   "cell_type": "code",
   "execution_count": 146,
   "metadata": {},
   "outputs": [],
   "source": [
    "df = pd.DataFrame([songs,danceability,\n",
    " energy,\n",
    " key,\n",
    " loudness,\n",
    " mode,\n",
    " speechiness,\n",
    " acousticness,\n",
    " instrumentalness,\n",
    " liveness,\n",
    " valence,\n",
    " tempo,\n",
    " type,\n",
    " id,\n",
    " uri,\n",
    " track_href,\n",
    " analysis_url,\n",
    " duration_ms,\n",
    " time_signature])"
   ]
  },
  {
   "cell_type": "code",
   "execution_count": 147,
   "metadata": {},
   "outputs": [],
   "source": [
    "df = df.T"
   ]
  },
  {
   "cell_type": "code",
   "execution_count": 148,
   "metadata": {},
   "outputs": [],
   "source": [
    "df.columns = ['song_id','danceability',\n",
    " 'energy',\n",
    " 'key',\n",
    " 'loudness',\n",
    " 'mode',\n",
    " 'speechiness',\n",
    " 'acousticness',\n",
    " 'instrumentalness',\n",
    " 'liveness',\n",
    " 'valence',\n",
    " 'tempo',\n",
    " 'type',\n",
    " 'id',\n",
    " 'uri',\n",
    " 'track_href',\n",
    " 'analysis_url',\n",
    " 'duration_ms',\n",
    " 'time_signature']"
   ]
  },
  {
   "cell_type": "code",
   "execution_count": 149,
   "metadata": {},
   "outputs": [
    {
     "name": "stdout",
     "output_type": "stream",
     "text": [
      "<class 'pandas.core.frame.DataFrame'>\n",
      "RangeIndex: 9968 entries, 0 to 9967\n",
      "Data columns (total 19 columns):\n",
      " #   Column            Non-Null Count  Dtype \n",
      "---  ------            --------------  ----- \n",
      " 0   song_id           9968 non-null   object\n",
      " 1   danceability      9968 non-null   object\n",
      " 2   energy            9968 non-null   object\n",
      " 3   key               9968 non-null   object\n",
      " 4   loudness          9968 non-null   object\n",
      " 5   mode              9968 non-null   object\n",
      " 6   speechiness       9968 non-null   object\n",
      " 7   acousticness      9968 non-null   object\n",
      " 8   instrumentalness  9968 non-null   object\n",
      " 9   liveness          9968 non-null   object\n",
      " 10  valence           9968 non-null   object\n",
      " 11  tempo             9968 non-null   object\n",
      " 12  type              9968 non-null   object\n",
      " 13  id                9968 non-null   object\n",
      " 14  uri               9968 non-null   object\n",
      " 15  track_href        9968 non-null   object\n",
      " 16  analysis_url      9968 non-null   object\n",
      " 17  duration_ms       9968 non-null   object\n",
      " 18  time_signature    9968 non-null   object\n",
      "dtypes: object(19)\n",
      "memory usage: 1.4+ MB\n"
     ]
    }
   ],
   "source": [
    "df.info()"
   ]
  },
  {
   "cell_type": "code",
   "execution_count": 150,
   "metadata": {},
   "outputs": [
    {
     "data": {
      "text/html": [
       "<div>\n",
       "<style scoped>\n",
       "    .dataframe tbody tr th:only-of-type {\n",
       "        vertical-align: middle;\n",
       "    }\n",
       "\n",
       "    .dataframe tbody tr th {\n",
       "        vertical-align: top;\n",
       "    }\n",
       "\n",
       "    .dataframe thead th {\n",
       "        text-align: right;\n",
       "    }\n",
       "</style>\n",
       "<table border=\"1\" class=\"dataframe\">\n",
       "  <thead>\n",
       "    <tr style=\"text-align: right;\">\n",
       "      <th></th>\n",
       "      <th>song_id</th>\n",
       "      <th>danceability</th>\n",
       "      <th>energy</th>\n",
       "      <th>key</th>\n",
       "      <th>loudness</th>\n",
       "      <th>mode</th>\n",
       "      <th>speechiness</th>\n",
       "      <th>acousticness</th>\n",
       "      <th>instrumentalness</th>\n",
       "      <th>liveness</th>\n",
       "      <th>valence</th>\n",
       "      <th>tempo</th>\n",
       "      <th>type</th>\n",
       "      <th>id</th>\n",
       "      <th>uri</th>\n",
       "      <th>track_href</th>\n",
       "      <th>analysis_url</th>\n",
       "      <th>duration_ms</th>\n",
       "      <th>time_signature</th>\n",
       "    </tr>\n",
       "  </thead>\n",
       "  <tbody>\n",
       "    <tr>\n",
       "      <th>0</th>\n",
       "      <td>2MvvoeRt8NcOXWESkxWn3g</td>\n",
       "      <td>0.511</td>\n",
       "      <td>0.472</td>\n",
       "      <td>4</td>\n",
       "      <td>-9.277</td>\n",
       "      <td>1</td>\n",
       "      <td>0.091</td>\n",
       "      <td>0.534</td>\n",
       "      <td>0.614</td>\n",
       "      <td>0.11</td>\n",
       "      <td>0.0399</td>\n",
       "      <td>127.978</td>\n",
       "      <td>audio_features</td>\n",
       "      <td>2MvvoeRt8NcOXWESkxWn3g</td>\n",
       "      <td>spotify:track:2MvvoeRt8NcOXWESkxWn3g</td>\n",
       "      <td>https://api.spotify.com/v1/tracks/2MvvoeRt8NcO...</td>\n",
       "      <td>https://api.spotify.com/v1/audio-analysis/2Mvv...</td>\n",
       "      <td>258969</td>\n",
       "      <td>4</td>\n",
       "    </tr>\n",
       "    <tr>\n",
       "      <th>1</th>\n",
       "      <td>6UFivO2zqqPFPoQYsEMuCc</td>\n",
       "      <td>0.742</td>\n",
       "      <td>0.546</td>\n",
       "      <td>1</td>\n",
       "      <td>-7.694</td>\n",
       "      <td>1</td>\n",
       "      <td>0.0315</td>\n",
       "      <td>0.172</td>\n",
       "      <td>0.38</td>\n",
       "      <td>0.115</td>\n",
       "      <td>0.868</td>\n",
       "      <td>104.996</td>\n",
       "      <td>audio_features</td>\n",
       "      <td>6UFivO2zqqPFPoQYsEMuCc</td>\n",
       "      <td>spotify:track:6UFivO2zqqPFPoQYsEMuCc</td>\n",
       "      <td>https://api.spotify.com/v1/tracks/6UFivO2zqqPF...</td>\n",
       "      <td>https://api.spotify.com/v1/audio-analysis/6UFi...</td>\n",
       "      <td>260520</td>\n",
       "      <td>4</td>\n",
       "    </tr>\n",
       "    <tr>\n",
       "      <th>2</th>\n",
       "      <td>4Musyaro0NM5Awx8b5c627</td>\n",
       "      <td>0.609</td>\n",
       "      <td>0.629</td>\n",
       "      <td>10</td>\n",
       "      <td>-5.024</td>\n",
       "      <td>1</td>\n",
       "      <td>0.0264</td>\n",
       "      <td>0.425</td>\n",
       "      <td>0</td>\n",
       "      <td>0.0978</td>\n",
       "      <td>0.325</td>\n",
       "      <td>99.955</td>\n",
       "      <td>audio_features</td>\n",
       "      <td>4Musyaro0NM5Awx8b5c627</td>\n",
       "      <td>spotify:track:4Musyaro0NM5Awx8b5c627</td>\n",
       "      <td>https://api.spotify.com/v1/tracks/4Musyaro0NM5...</td>\n",
       "      <td>https://api.spotify.com/v1/audio-analysis/4Mus...</td>\n",
       "      <td>241467</td>\n",
       "      <td>4</td>\n",
       "    </tr>\n",
       "    <tr>\n",
       "      <th>3</th>\n",
       "      <td>1CkvWZme3pRgbzaxZnTl5X</td>\n",
       "      <td>0.729</td>\n",
       "      <td>0.756</td>\n",
       "      <td>8</td>\n",
       "      <td>-5.119</td>\n",
       "      <td>1</td>\n",
       "      <td>0.0294</td>\n",
       "      <td>0.131</td>\n",
       "      <td>0</td>\n",
       "      <td>0.0527</td>\n",
       "      <td>0.522</td>\n",
       "      <td>104.945</td>\n",
       "      <td>audio_features</td>\n",
       "      <td>1CkvWZme3pRgbzaxZnTl5X</td>\n",
       "      <td>spotify:track:1CkvWZme3pRgbzaxZnTl5X</td>\n",
       "      <td>https://api.spotify.com/v1/tracks/1CkvWZme3pRg...</td>\n",
       "      <td>https://api.spotify.com/v1/audio-analysis/1Ckv...</td>\n",
       "      <td>228293</td>\n",
       "      <td>4</td>\n",
       "    </tr>\n",
       "    <tr>\n",
       "      <th>4</th>\n",
       "      <td>4lLtanYk6tkMvooU0tWzG8</td>\n",
       "      <td>0.706</td>\n",
       "      <td>0.558</td>\n",
       "      <td>2</td>\n",
       "      <td>-7.237</td>\n",
       "      <td>0</td>\n",
       "      <td>0.0593</td>\n",
       "      <td>0.146</td>\n",
       "      <td>0</td>\n",
       "      <td>0.118</td>\n",
       "      <td>0.227</td>\n",
       "      <td>110.443</td>\n",
       "      <td>audio_features</td>\n",
       "      <td>4lLtanYk6tkMvooU0tWzG8</td>\n",
       "      <td>spotify:track:4lLtanYk6tkMvooU0tWzG8</td>\n",
       "      <td>https://api.spotify.com/v1/tracks/4lLtanYk6tkM...</td>\n",
       "      <td>https://api.spotify.com/v1/audio-analysis/4lLt...</td>\n",
       "      <td>223253</td>\n",
       "      <td>4</td>\n",
       "    </tr>\n",
       "    <tr>\n",
       "      <th>...</th>\n",
       "      <td>...</td>\n",
       "      <td>...</td>\n",
       "      <td>...</td>\n",
       "      <td>...</td>\n",
       "      <td>...</td>\n",
       "      <td>...</td>\n",
       "      <td>...</td>\n",
       "      <td>...</td>\n",
       "      <td>...</td>\n",
       "      <td>...</td>\n",
       "      <td>...</td>\n",
       "      <td>...</td>\n",
       "      <td>...</td>\n",
       "      <td>...</td>\n",
       "      <td>...</td>\n",
       "      <td>...</td>\n",
       "      <td>...</td>\n",
       "      <td>...</td>\n",
       "      <td>...</td>\n",
       "    </tr>\n",
       "    <tr>\n",
       "      <th>9963</th>\n",
       "      <td>2foI6dVPMRC7B3qwjca19u</td>\n",
       "      <td>0.415</td>\n",
       "      <td>0.339</td>\n",
       "      <td>0</td>\n",
       "      <td>-10.278</td>\n",
       "      <td>1</td>\n",
       "      <td>0.0316</td>\n",
       "      <td>0.703</td>\n",
       "      <td>0</td>\n",
       "      <td>0.175</td>\n",
       "      <td>0.34</td>\n",
       "      <td>131.765</td>\n",
       "      <td>audio_features</td>\n",
       "      <td>2foI6dVPMRC7B3qwjca19u</td>\n",
       "      <td>spotify:track:2foI6dVPMRC7B3qwjca19u</td>\n",
       "      <td>https://api.spotify.com/v1/tracks/2foI6dVPMRC7...</td>\n",
       "      <td>https://api.spotify.com/v1/audio-analysis/2foI...</td>\n",
       "      <td>213747</td>\n",
       "      <td>3</td>\n",
       "    </tr>\n",
       "    <tr>\n",
       "      <th>9964</th>\n",
       "      <td>1ZfK0enTcbDvb3LznGG7Wl</td>\n",
       "      <td>0.494</td>\n",
       "      <td>0.531</td>\n",
       "      <td>7</td>\n",
       "      <td>-8.146</td>\n",
       "      <td>1</td>\n",
       "      <td>0.418</td>\n",
       "      <td>0.586</td>\n",
       "      <td>0</td>\n",
       "      <td>0.325</td>\n",
       "      <td>0.212</td>\n",
       "      <td>79.22</td>\n",
       "      <td>audio_features</td>\n",
       "      <td>1ZfK0enTcbDvb3LznGG7Wl</td>\n",
       "      <td>spotify:track:1ZfK0enTcbDvb3LznGG7Wl</td>\n",
       "      <td>https://api.spotify.com/v1/tracks/1ZfK0enTcbDv...</td>\n",
       "      <td>https://api.spotify.com/v1/audio-analysis/1ZfK...</td>\n",
       "      <td>170427</td>\n",
       "      <td>4</td>\n",
       "    </tr>\n",
       "    <tr>\n",
       "      <th>9965</th>\n",
       "      <td>1GE57bvEZMZijuQAbQve3H</td>\n",
       "      <td>0.534</td>\n",
       "      <td>0.802</td>\n",
       "      <td>7</td>\n",
       "      <td>-4.669</td>\n",
       "      <td>0</td>\n",
       "      <td>0.219</td>\n",
       "      <td>0.154</td>\n",
       "      <td>4.1e-06</td>\n",
       "      <td>0.171</td>\n",
       "      <td>0.748</td>\n",
       "      <td>179.998</td>\n",
       "      <td>audio_features</td>\n",
       "      <td>1GE57bvEZMZijuQAbQve3H</td>\n",
       "      <td>spotify:track:1GE57bvEZMZijuQAbQve3H</td>\n",
       "      <td>https://api.spotify.com/v1/tracks/1GE57bvEZMZi...</td>\n",
       "      <td>https://api.spotify.com/v1/audio-analysis/1GE5...</td>\n",
       "      <td>195957</td>\n",
       "      <td>4</td>\n",
       "    </tr>\n",
       "    <tr>\n",
       "      <th>9966</th>\n",
       "      <td>7jA5OcunWRSYXq98puhAX8</td>\n",
       "      <td>0.499</td>\n",
       "      <td>0.468</td>\n",
       "      <td>0</td>\n",
       "      <td>-9.995</td>\n",
       "      <td>0</td>\n",
       "      <td>0.0396</td>\n",
       "      <td>0.795</td>\n",
       "      <td>0.88</td>\n",
       "      <td>0.0899</td>\n",
       "      <td>0.0763</td>\n",
       "      <td>141.463</td>\n",
       "      <td>audio_features</td>\n",
       "      <td>7jA5OcunWRSYXq98puhAX8</td>\n",
       "      <td>spotify:track:7jA5OcunWRSYXq98puhAX8</td>\n",
       "      <td>https://api.spotify.com/v1/tracks/7jA5OcunWRSY...</td>\n",
       "      <td>https://api.spotify.com/v1/audio-analysis/7jA5...</td>\n",
       "      <td>157000</td>\n",
       "      <td>4</td>\n",
       "    </tr>\n",
       "    <tr>\n",
       "      <th>9967</th>\n",
       "      <td>21jGcNKet2qwijlDFuPiPb</td>\n",
       "      <td>0.695</td>\n",
       "      <td>0.762</td>\n",
       "      <td>0</td>\n",
       "      <td>-3.497</td>\n",
       "      <td>1</td>\n",
       "      <td>0.0395</td>\n",
       "      <td>0.192</td>\n",
       "      <td>0.00244</td>\n",
       "      <td>0.0863</td>\n",
       "      <td>0.553</td>\n",
       "      <td>120.042</td>\n",
       "      <td>audio_features</td>\n",
       "      <td>21jGcNKet2qwijlDFuPiPb</td>\n",
       "      <td>spotify:track:21jGcNKet2qwijlDFuPiPb</td>\n",
       "      <td>https://api.spotify.com/v1/tracks/21jGcNKet2qw...</td>\n",
       "      <td>https://api.spotify.com/v1/audio-analysis/21jG...</td>\n",
       "      <td>215280</td>\n",
       "      <td>4</td>\n",
       "    </tr>\n",
       "  </tbody>\n",
       "</table>\n",
       "<p>9968 rows × 19 columns</p>\n",
       "</div>"
      ],
      "text/plain": [
       "                     song_id danceability energy key loudness mode  \\\n",
       "0     2MvvoeRt8NcOXWESkxWn3g        0.511  0.472   4   -9.277    1   \n",
       "1     6UFivO2zqqPFPoQYsEMuCc        0.742  0.546   1   -7.694    1   \n",
       "2     4Musyaro0NM5Awx8b5c627        0.609  0.629  10   -5.024    1   \n",
       "3     1CkvWZme3pRgbzaxZnTl5X        0.729  0.756   8   -5.119    1   \n",
       "4     4lLtanYk6tkMvooU0tWzG8        0.706  0.558   2   -7.237    0   \n",
       "...                      ...          ...    ...  ..      ...  ...   \n",
       "9963  2foI6dVPMRC7B3qwjca19u        0.415  0.339   0  -10.278    1   \n",
       "9964  1ZfK0enTcbDvb3LznGG7Wl        0.494  0.531   7   -8.146    1   \n",
       "9965  1GE57bvEZMZijuQAbQve3H        0.534  0.802   7   -4.669    0   \n",
       "9966  7jA5OcunWRSYXq98puhAX8        0.499  0.468   0   -9.995    0   \n",
       "9967  21jGcNKet2qwijlDFuPiPb        0.695  0.762   0   -3.497    1   \n",
       "\n",
       "     speechiness acousticness instrumentalness liveness valence    tempo  \\\n",
       "0          0.091        0.534            0.614     0.11  0.0399  127.978   \n",
       "1         0.0315        0.172             0.38    0.115   0.868  104.996   \n",
       "2         0.0264        0.425                0   0.0978   0.325   99.955   \n",
       "3         0.0294        0.131                0   0.0527   0.522  104.945   \n",
       "4         0.0593        0.146                0    0.118   0.227  110.443   \n",
       "...          ...          ...              ...      ...     ...      ...   \n",
       "9963      0.0316        0.703                0    0.175    0.34  131.765   \n",
       "9964       0.418        0.586                0    0.325   0.212    79.22   \n",
       "9965       0.219        0.154          4.1e-06    0.171   0.748  179.998   \n",
       "9966      0.0396        0.795             0.88   0.0899  0.0763  141.463   \n",
       "9967      0.0395        0.192          0.00244   0.0863   0.553  120.042   \n",
       "\n",
       "                type                      id  \\\n",
       "0     audio_features  2MvvoeRt8NcOXWESkxWn3g   \n",
       "1     audio_features  6UFivO2zqqPFPoQYsEMuCc   \n",
       "2     audio_features  4Musyaro0NM5Awx8b5c627   \n",
       "3     audio_features  1CkvWZme3pRgbzaxZnTl5X   \n",
       "4     audio_features  4lLtanYk6tkMvooU0tWzG8   \n",
       "...              ...                     ...   \n",
       "9963  audio_features  2foI6dVPMRC7B3qwjca19u   \n",
       "9964  audio_features  1ZfK0enTcbDvb3LznGG7Wl   \n",
       "9965  audio_features  1GE57bvEZMZijuQAbQve3H   \n",
       "9966  audio_features  7jA5OcunWRSYXq98puhAX8   \n",
       "9967  audio_features  21jGcNKet2qwijlDFuPiPb   \n",
       "\n",
       "                                       uri  \\\n",
       "0     spotify:track:2MvvoeRt8NcOXWESkxWn3g   \n",
       "1     spotify:track:6UFivO2zqqPFPoQYsEMuCc   \n",
       "2     spotify:track:4Musyaro0NM5Awx8b5c627   \n",
       "3     spotify:track:1CkvWZme3pRgbzaxZnTl5X   \n",
       "4     spotify:track:4lLtanYk6tkMvooU0tWzG8   \n",
       "...                                    ...   \n",
       "9963  spotify:track:2foI6dVPMRC7B3qwjca19u   \n",
       "9964  spotify:track:1ZfK0enTcbDvb3LznGG7Wl   \n",
       "9965  spotify:track:1GE57bvEZMZijuQAbQve3H   \n",
       "9966  spotify:track:7jA5OcunWRSYXq98puhAX8   \n",
       "9967  spotify:track:21jGcNKet2qwijlDFuPiPb   \n",
       "\n",
       "                                             track_href  \\\n",
       "0     https://api.spotify.com/v1/tracks/2MvvoeRt8NcO...   \n",
       "1     https://api.spotify.com/v1/tracks/6UFivO2zqqPF...   \n",
       "2     https://api.spotify.com/v1/tracks/4Musyaro0NM5...   \n",
       "3     https://api.spotify.com/v1/tracks/1CkvWZme3pRg...   \n",
       "4     https://api.spotify.com/v1/tracks/4lLtanYk6tkM...   \n",
       "...                                                 ...   \n",
       "9963  https://api.spotify.com/v1/tracks/2foI6dVPMRC7...   \n",
       "9964  https://api.spotify.com/v1/tracks/1ZfK0enTcbDv...   \n",
       "9965  https://api.spotify.com/v1/tracks/1GE57bvEZMZi...   \n",
       "9966  https://api.spotify.com/v1/tracks/7jA5OcunWRSY...   \n",
       "9967  https://api.spotify.com/v1/tracks/21jGcNKet2qw...   \n",
       "\n",
       "                                           analysis_url duration_ms  \\\n",
       "0     https://api.spotify.com/v1/audio-analysis/2Mvv...      258969   \n",
       "1     https://api.spotify.com/v1/audio-analysis/6UFi...      260520   \n",
       "2     https://api.spotify.com/v1/audio-analysis/4Mus...      241467   \n",
       "3     https://api.spotify.com/v1/audio-analysis/1Ckv...      228293   \n",
       "4     https://api.spotify.com/v1/audio-analysis/4lLt...      223253   \n",
       "...                                                 ...         ...   \n",
       "9963  https://api.spotify.com/v1/audio-analysis/2foI...      213747   \n",
       "9964  https://api.spotify.com/v1/audio-analysis/1ZfK...      170427   \n",
       "9965  https://api.spotify.com/v1/audio-analysis/1GE5...      195957   \n",
       "9966  https://api.spotify.com/v1/audio-analysis/7jA5...      157000   \n",
       "9967  https://api.spotify.com/v1/audio-analysis/21jG...      215280   \n",
       "\n",
       "     time_signature  \n",
       "0                 4  \n",
       "1                 4  \n",
       "2                 4  \n",
       "3                 4  \n",
       "4                 4  \n",
       "...             ...  \n",
       "9963              3  \n",
       "9964              4  \n",
       "9965              4  \n",
       "9966              4  \n",
       "9967              4  \n",
       "\n",
       "[9968 rows x 19 columns]"
      ]
     },
     "execution_count": 150,
     "metadata": {},
     "output_type": "execute_result"
    }
   ],
   "source": [
    "df"
   ]
  },
  {
   "cell_type": "code",
   "execution_count": 151,
   "metadata": {},
   "outputs": [],
   "source": [
    "to_numeric = ['danceability',\n",
    " 'energy',\n",
    " 'key',\n",
    " 'loudness',\n",
    " 'mode',\n",
    " 'speechiness',\n",
    " 'acousticness',\n",
    " 'instrumentalness',\n",
    " 'liveness',\n",
    " 'valence',\n",
    " 'tempo',\n",
    " 'duration_ms',\n",
    " 'time_signature']"
   ]
  },
  {
   "cell_type": "code",
   "execution_count": 152,
   "metadata": {},
   "outputs": [],
   "source": [
    "for i in to_numeric:\n",
    "    df[i] = df[i].astype(float)"
   ]
  },
  {
   "cell_type": "code",
   "execution_count": 153,
   "metadata": {},
   "outputs": [
    {
     "name": "stdout",
     "output_type": "stream",
     "text": [
      "<class 'pandas.core.frame.DataFrame'>\n",
      "RangeIndex: 9968 entries, 0 to 9967\n",
      "Data columns (total 19 columns):\n",
      " #   Column            Non-Null Count  Dtype  \n",
      "---  ------            --------------  -----  \n",
      " 0   song_id           9968 non-null   object \n",
      " 1   danceability      9968 non-null   float64\n",
      " 2   energy            9968 non-null   float64\n",
      " 3   key               9968 non-null   float64\n",
      " 4   loudness          9968 non-null   float64\n",
      " 5   mode              9968 non-null   float64\n",
      " 6   speechiness       9968 non-null   float64\n",
      " 7   acousticness      9968 non-null   float64\n",
      " 8   instrumentalness  9968 non-null   float64\n",
      " 9   liveness          9968 non-null   float64\n",
      " 10  valence           9968 non-null   float64\n",
      " 11  tempo             9968 non-null   float64\n",
      " 12  type              9968 non-null   object \n",
      " 13  id                9968 non-null   object \n",
      " 14  uri               9968 non-null   object \n",
      " 15  track_href        9968 non-null   object \n",
      " 16  analysis_url      9968 non-null   object \n",
      " 17  duration_ms       9968 non-null   float64\n",
      " 18  time_signature    9968 non-null   float64\n",
      "dtypes: float64(13), object(6)\n",
      "memory usage: 1.4+ MB\n"
     ]
    }
   ],
   "source": [
    "df.info()"
   ]
  },
  {
   "cell_type": "code",
   "execution_count": 154,
   "metadata": {},
   "outputs": [],
   "source": [
    "to_drop = [\n",
    " 'type',\n",
    " 'id',\n",
    " 'uri',\n",
    " 'track_href',\n",
    " 'analysis_url']"
   ]
  },
  {
   "cell_type": "code",
   "execution_count": 155,
   "metadata": {},
   "outputs": [],
   "source": [
    "df.drop(to_drop, axis = 1, inplace = True)"
   ]
  },
  {
   "cell_type": "markdown",
   "metadata": {},
   "source": [
    "# Clustering"
   ]
  },
  {
   "cell_type": "code",
   "execution_count": 156,
   "metadata": {},
   "outputs": [],
   "source": [
    "import pandas as pd\n",
    "from sklearn import datasets\n",
    "from sklearn.preprocessing import StandardScaler\n",
    "from sklearn.cluster import KMeans\n",
    "from sklearn.metrics import silhouette_score"
   ]
  },
  {
   "cell_type": "code",
   "execution_count": 157,
   "metadata": {},
   "outputs": [],
   "source": [
    "X = df"
   ]
  },
  {
   "cell_type": "code",
   "execution_count": 158,
   "metadata": {},
   "outputs": [],
   "source": [
    "X.set_index('song_id', inplace = True)"
   ]
  },
  {
   "cell_type": "code",
   "execution_count": 159,
   "metadata": {},
   "outputs": [],
   "source": [
    "X_prep = StandardScaler().fit_transform(X)"
   ]
  },
  {
   "cell_type": "code",
   "execution_count": 160,
   "metadata": {},
   "outputs": [
    {
     "data": {
      "text/plain": [
       "Text(0.5, 1.0, 'Elbow Method showing the optimal k')"
      ]
     },
     "execution_count": 160,
     "metadata": {},
     "output_type": "execute_result"
    },
    {
     "data": {
      "image/png": "[encoded data removed]",
      "text/plain": [
       "<Figure size 1152x576 with 1 Axes>"
      ]
     },
     "metadata": {
      "needs_background": "light"
     },
     "output_type": "display_data"
    }
   ],
   "source": [
    "K = range(2, 20)\n",
    "inertia = []\n",
    "\n",
    "for k in K:\n",
    "    kmeans = KMeans(n_clusters=k,\n",
    "                    random_state=1234)\n",
    "    kmeans.fit(X_prep)\n",
    "    inertia.append(kmeans.inertia_)\n",
    "\n",
    "import numpy as np\n",
    "import matplotlib.pyplot as plt\n",
    "%matplotlib inline\n",
    "\n",
    "plt.figure(figsize=(16,8))\n",
    "plt.plot(K, inertia, 'bx-')\n",
    "plt.xlabel('k')\n",
    "plt.ylabel('inertia')\n",
    "plt.xticks(np.arange(min(K), max(K)+1, 1.0))\n",
    "plt.title('Elbow Method showing the optimal k')"
   ]
  },
  {
   "cell_type": "code",
   "execution_count": 161,
   "metadata": {
    "scrolled": true
   },
   "outputs": [
    {
     "data": {
      "text/plain": [
       "Text(0.5, 1.0, 'Silhouette Method showing the optimal k')"
      ]
     },
     "execution_count": 161,
     "metadata": {},
     "output_type": "execute_result"
    },
    {
     "data": {
      "image/png": "[encoded data removed]",
      "text/plain": [
       "<Figure size 1152x576 with 1 Axes>"
      ]
     },
     "metadata": {
      "needs_background": "light"
     },
     "output_type": "display_data"
    }
   ],
   "source": [
    "K = range(2, 20)\n",
    "silhouette = []\n",
    "\n",
    "for k in K:\n",
    "    kmeans = KMeans(n_clusters=k,\n",
    "                    random_state=1234)\n",
    "    kmeans.fit(X_prep)\n",
    "    silhouette.append(silhouette_score(X_prep, kmeans.predict(X_prep)))\n",
    "\n",
    "\n",
    "plt.figure(figsize=(16,8))\n",
    "plt.plot(K, silhouette, 'bx-')\n",
    "plt.xlabel('k')\n",
    "plt.ylabel('silhouette score')\n",
    "plt.xticks(np.arange(min(K), max(K)+1, 1.0))\n",
    "plt.title('Silhouette Method showing the optimal k')"
   ]
  },
  {
   "cell_type": "code",
   "execution_count": 162,
   "metadata": {},
   "outputs": [
    {
     "data": {
      "text/plain": [
       "KMeans(n_clusters=6, random_state=1234)"
      ]
     },
     "execution_count": 162,
     "metadata": {},
     "output_type": "execute_result"
    }
   ],
   "source": [
    "kmeans = KMeans(n_clusters=6, random_state=1234)\n",
    "kmeans.fit(X_prep)"
   ]
  },
  {
   "cell_type": "code",
   "execution_count": 163,
   "metadata": {},
   "outputs": [
    {
     "data": {
      "text/plain": [
       "0    1703\n",
       "1     479\n",
       "2    2508\n",
       "3    4254\n",
       "4     645\n",
       "5     379\n",
       "dtype: int64"
      ]
     },
     "execution_count": 163,
     "metadata": {},
     "output_type": "execute_result"
    }
   ],
   "source": [
    "clusters = kmeans.predict(X_prep)\n",
    "pd.Series(clusters).value_counts().sort_index()"
   ]
  },
  {
   "cell_type": "code",
   "execution_count": 164,
   "metadata": {},
   "outputs": [
    {
     "data": {
      "text/html": [
       "<div>\n",
       "<style scoped>\n",
       "    .dataframe tbody tr th:only-of-type {\n",
       "        vertical-align: middle;\n",
       "    }\n",
       "\n",
       "    .dataframe tbody tr th {\n",
       "        vertical-align: top;\n",
       "    }\n",
       "\n",
       "    .dataframe thead th {\n",
       "        text-align: right;\n",
       "    }\n",
       "</style>\n",
       "<table border=\"1\" class=\"dataframe\">\n",
       "  <thead>\n",
       "    <tr style=\"text-align: right;\">\n",
       "      <th></th>\n",
       "      <th>danceability</th>\n",
       "      <th>energy</th>\n",
       "      <th>key</th>\n",
       "      <th>loudness</th>\n",
       "      <th>mode</th>\n",
       "      <th>speechiness</th>\n",
       "      <th>acousticness</th>\n",
       "      <th>instrumentalness</th>\n",
       "      <th>liveness</th>\n",
       "      <th>valence</th>\n",
       "      <th>tempo</th>\n",
       "      <th>duration_ms</th>\n",
       "      <th>time_signature</th>\n",
       "      <th>cluster</th>\n",
       "    </tr>\n",
       "    <tr>\n",
       "      <th>song_id</th>\n",
       "      <th></th>\n",
       "      <th></th>\n",
       "      <th></th>\n",
       "      <th></th>\n",
       "      <th></th>\n",
       "      <th></th>\n",
       "      <th></th>\n",
       "      <th></th>\n",
       "      <th></th>\n",
       "      <th></th>\n",
       "      <th></th>\n",
       "      <th></th>\n",
       "      <th></th>\n",
       "      <th></th>\n",
       "    </tr>\n",
       "  </thead>\n",
       "  <tbody>\n",
       "    <tr>\n",
       "      <th>2MvvoeRt8NcOXWESkxWn3g</th>\n",
       "      <td>0.511</td>\n",
       "      <td>0.472</td>\n",
       "      <td>4.0</td>\n",
       "      <td>-9.277</td>\n",
       "      <td>1.0</td>\n",
       "      <td>0.0910</td>\n",
       "      <td>0.534</td>\n",
       "      <td>0.614</td>\n",
       "      <td>0.1100</td>\n",
       "      <td>0.0399</td>\n",
       "      <td>127.978</td>\n",
       "      <td>258969.0</td>\n",
       "      <td>4.0</td>\n",
       "      <td>5</td>\n",
       "    </tr>\n",
       "    <tr>\n",
       "      <th>6UFivO2zqqPFPoQYsEMuCc</th>\n",
       "      <td>0.742</td>\n",
       "      <td>0.546</td>\n",
       "      <td>1.0</td>\n",
       "      <td>-7.694</td>\n",
       "      <td>1.0</td>\n",
       "      <td>0.0315</td>\n",
       "      <td>0.172</td>\n",
       "      <td>0.380</td>\n",
       "      <td>0.1150</td>\n",
       "      <td>0.8680</td>\n",
       "      <td>104.996</td>\n",
       "      <td>260520.0</td>\n",
       "      <td>4.0</td>\n",
       "      <td>5</td>\n",
       "    </tr>\n",
       "    <tr>\n",
       "      <th>4Musyaro0NM5Awx8b5c627</th>\n",
       "      <td>0.609</td>\n",
       "      <td>0.629</td>\n",
       "      <td>10.0</td>\n",
       "      <td>-5.024</td>\n",
       "      <td>1.0</td>\n",
       "      <td>0.0264</td>\n",
       "      <td>0.425</td>\n",
       "      <td>0.000</td>\n",
       "      <td>0.0978</td>\n",
       "      <td>0.3250</td>\n",
       "      <td>99.955</td>\n",
       "      <td>241467.0</td>\n",
       "      <td>4.0</td>\n",
       "      <td>3</td>\n",
       "    </tr>\n",
       "    <tr>\n",
       "      <th>1CkvWZme3pRgbzaxZnTl5X</th>\n",
       "      <td>0.729</td>\n",
       "      <td>0.756</td>\n",
       "      <td>8.0</td>\n",
       "      <td>-5.119</td>\n",
       "      <td>1.0</td>\n",
       "      <td>0.0294</td>\n",
       "      <td>0.131</td>\n",
       "      <td>0.000</td>\n",
       "      <td>0.0527</td>\n",
       "      <td>0.5220</td>\n",
       "      <td>104.945</td>\n",
       "      <td>228293.0</td>\n",
       "      <td>4.0</td>\n",
       "      <td>3</td>\n",
       "    </tr>\n",
       "    <tr>\n",
       "      <th>4lLtanYk6tkMvooU0tWzG8</th>\n",
       "      <td>0.706</td>\n",
       "      <td>0.558</td>\n",
       "      <td>2.0</td>\n",
       "      <td>-7.237</td>\n",
       "      <td>0.0</td>\n",
       "      <td>0.0593</td>\n",
       "      <td>0.146</td>\n",
       "      <td>0.000</td>\n",
       "      <td>0.1180</td>\n",
       "      <td>0.2270</td>\n",
       "      <td>110.443</td>\n",
       "      <td>223253.0</td>\n",
       "      <td>4.0</td>\n",
       "      <td>2</td>\n",
       "    </tr>\n",
       "  </tbody>\n",
       "</table>\n",
       "</div>"
      ],
      "text/plain": [
       "                        danceability  energy   key  loudness  mode  \\\n",
       "song_id                                                              \n",
       "2MvvoeRt8NcOXWESkxWn3g         0.511   0.472   4.0    -9.277   1.0   \n",
       "6UFivO2zqqPFPoQYsEMuCc         0.742   0.546   1.0    -7.694   1.0   \n",
       "4Musyaro0NM5Awx8b5c627         0.609   0.629  10.0    -5.024   1.0   \n",
       "1CkvWZme3pRgbzaxZnTl5X         0.729   0.756   8.0    -5.119   1.0   \n",
       "4lLtanYk6tkMvooU0tWzG8         0.706   0.558   2.0    -7.237   0.0   \n",
       "\n",
       "                        speechiness  acousticness  instrumentalness  liveness  \\\n",
       "song_id                                                                         \n",
       "2MvvoeRt8NcOXWESkxWn3g       0.0910         0.534             0.614    0.1100   \n",
       "6UFivO2zqqPFPoQYsEMuCc       0.0315         0.172             0.380    0.1150   \n",
       "4Musyaro0NM5Awx8b5c627       0.0264         0.425             0.000    0.0978   \n",
       "1CkvWZme3pRgbzaxZnTl5X       0.0294         0.131             0.000    0.0527   \n",
       "4lLtanYk6tkMvooU0tWzG8       0.0593         0.146             0.000    0.1180   \n",
       "\n",
       "                        valence    tempo  duration_ms  time_signature  cluster  \n",
       "song_id                                                                         \n",
       "2MvvoeRt8NcOXWESkxWn3g   0.0399  127.978     258969.0             4.0        5  \n",
       "6UFivO2zqqPFPoQYsEMuCc   0.8680  104.996     260520.0             4.0        5  \n",
       "4Musyaro0NM5Awx8b5c627   0.3250   99.955     241467.0             4.0        3  \n",
       "1CkvWZme3pRgbzaxZnTl5X   0.5220  104.945     228293.0             4.0        3  \n",
       "4lLtanYk6tkMvooU0tWzG8   0.2270  110.443     223253.0             4.0        2  "
      ]
     },
     "execution_count": 164,
     "metadata": {},
     "output_type": "execute_result"
    }
   ],
   "source": [
    "X_df = pd.DataFrame(X)\n",
    "X_df[\"cluster\"] = clusters\n",
    "X_df.head()"
   ]
  }
 ],
 "metadata": {
  "kernelspec": {
   "display_name": "Python 3",
   "language": "python",
   "name": "python3"
  },
  "language_info": {
   "codemirror_mode": {
    "name": "ipython",
    "version": 3
   },
   "file_extension": ".py",
   "mimetype": "text/x-python",
   "name": "python",
   "nbconvert_exporter": "python",
   "pygments_lexer": "ipython3",
   "version": "3.8.5"
  }
 },
 "nbformat": 4,
 "nbformat_minor": 4
}

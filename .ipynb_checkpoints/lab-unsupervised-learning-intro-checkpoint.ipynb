{
 "cells": [
  {
   "cell_type": "code",
   "execution_count": 1,
   "metadata": {},
   "outputs": [],
   "source": [
    "from spotify_client import *\n",
    "import pandas as pd\n",
    "import spotipy\n",
    "import json\n",
    "from spotipy.oauth2 import SpotifyClientCredentials"
   ]
  },
  {
   "cell_type": "code",
   "execution_count": 2,
   "metadata": {},
   "outputs": [],
   "source": [
    "sp = spotipy.Spotify(auth_manager=SpotifyClientCredentials(client_id= client_id,\n",
    "                                                           client_secret= client_secret))"
   ]
  },
  {
   "cell_type": "code",
   "execution_count": 13,
   "metadata": {},
   "outputs": [],
   "source": [
    "def get_playlist_tracks(username, playlist_id):\n",
    "    results = sp.user_playlist_tracks(username,playlist_id)\n",
    "    tracks = results['items']\n",
    "    while results['next']:\n",
    "        results = sp.next(results)\n",
    "        tracks.extend(results['items'])\n",
    "    return tracks"
   ]
  },
  {
   "cell_type": "code",
   "execution_count": 32,
   "metadata": {},
   "outputs": [],
   "source": [
    "tracks = get_playlist_tracks(\"spotify\", \"7htu5ftbLBRFAwiuHVcUAg\")"
   ]
  },
  {
   "cell_type": "code",
   "execution_count": 26,
   "metadata": {},
   "outputs": [
    {
     "data": {
      "text/plain": [
       "'spotify:track:2MvvoeRt8NcOXWESkxWn3g'"
      ]
     },
     "execution_count": 26,
     "metadata": {},
     "output_type": "execute_result"
    }
   ],
   "source": [
    "tracks[0]['track']['uri']"
   ]
  },
  {
   "cell_type": "code",
   "execution_count": 41,
   "metadata": {},
   "outputs": [],
   "source": [
    "def features(tracks):\n",
    "    \n",
    "    song_features = {}\n",
    "    \n",
    "    for i in range(2000):\n",
    "        song_features[tracks[i]['track']['id']] = sp.audio_features(tracks[i][\"track\"][\"uri\"])\n",
    "    \n",
    "    return song_features"
   ]
  },
  {
   "cell_type": "code",
   "execution_count": 36,
   "metadata": {},
   "outputs": [
    {
     "data": {
      "text/plain": [
       "[{'danceability': 0.511,\n",
       "  'energy': 0.472,\n",
       "  'key': 4,\n",
       "  'loudness': -9.277,\n",
       "  'mode': 1,\n",
       "  'speechiness': 0.091,\n",
       "  'acousticness': 0.534,\n",
       "  'instrumentalness': 0.614,\n",
       "  'liveness': 0.11,\n",
       "  'valence': 0.0399,\n",
       "  'tempo': 127.978,\n",
       "  'type': 'audio_features',\n",
       "  'id': '2MvvoeRt8NcOXWESkxWn3g',\n",
       "  'uri': 'spotify:track:2MvvoeRt8NcOXWESkxWn3g',\n",
       "  'track_href': 'https://api.spotify.com/v1/tracks/2MvvoeRt8NcOXWESkxWn3g',\n",
       "  'analysis_url': 'https://api.spotify.com/v1/audio-analysis/2MvvoeRt8NcOXWESkxWn3g',\n",
       "  'duration_ms': 258969,\n",
       "  'time_signature': 4}]"
      ]
     },
     "execution_count": 36,
     "metadata": {},
     "output_type": "execute_result"
    }
   ],
   "source": [
    "sp.audio_features(tracks[0][\"track\"][\"uri\"])"
   ]
  },
  {
   "cell_type": "code",
   "execution_count": 1,
   "metadata": {},
   "outputs": [
    {
     "ename": "NameError",
     "evalue": "name 'features' is not defined",
     "output_type": "error",
     "traceback": [
      "\u001b[0;31m---------------------------------------------------------------------------\u001b[0m",
      "\u001b[0;31mNameError\u001b[0m                                 Traceback (most recent call last)",
      "\u001b[0;32m<ipython-input-1-3c23504d2e83>\u001b[0m in \u001b[0;36m<module>\u001b[0;34m\u001b[0m\n\u001b[0;32m----> 1\u001b[0;31m \u001b[0mx\u001b[0m \u001b[0;34m=\u001b[0m \u001b[0mfeatures\u001b[0m\u001b[0;34m(\u001b[0m\u001b[0mtracks\u001b[0m\u001b[0;34m)\u001b[0m\u001b[0;34m\u001b[0m\u001b[0;34m\u001b[0m\u001b[0m\n\u001b[0m",
      "\u001b[0;31mNameError\u001b[0m: name 'features' is not defined"
     ]
    }
   ],
   "source": [
    "x = features(tracks)"
   ]
  }
 ],
 "metadata": {
  "kernelspec": {
   "display_name": "Python 3",
   "language": "python",
   "name": "python3"
  },
  "language_info": {
   "codemirror_mode": {
    "name": "ipython",
    "version": 3
   },
   "file_extension": ".py",
   "mimetype": "text/x-python",
   "name": "python",
   "nbconvert_exporter": "python",
   "pygments_lexer": "ipython3",
   "version": "3.8.5"
  }
 },
 "nbformat": 4,
 "nbformat_minor": 4
}
